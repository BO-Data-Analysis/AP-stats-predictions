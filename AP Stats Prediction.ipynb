{
 "cells": [
  {
   "cell_type": "markdown",
   "id": "700276b6-7377-4cd3-a0cc-d156c0d4f6db",
   "metadata": {},
   "source": [
    "# Predicting Stat Student Grades"
   ]
  },
  {
   "cell_type": "markdown",
   "id": "a505b589-4dab-42f3-8d86-a0cc184ba55f",
   "metadata": {},
   "source": [
    "## Import Statements"
   ]
  },
  {
   "cell_type": "code",
   "execution_count": 1,
   "id": "e4a7fbd3-2634-4048-bab0-a4cc7f3470db",
   "metadata": {
    "execution": {
     "iopub.execute_input": "2023-09-27T04:18:00.289070Z",
     "iopub.status.busy": "2023-09-27T04:18:00.288974Z",
     "iopub.status.idle": "2023-09-27T04:18:00.844158Z",
     "shell.execute_reply": "2023-09-27T04:18:00.843801Z",
     "shell.execute_reply.started": "2023-09-27T04:18:00.289060Z"
    },
    "tags": []
   },
   "outputs": [],
   "source": [
    "import pandas as pd\n",
    "import time\n",
    "import numpy as np\n",
    "\n",
    "# Linear regression import\n",
    "from sklearn.linear_model import LinearRegression\n",
    "# MLP import\n",
    "from sklearn.neural_network import MLPRegressor\n",
    "# Decision Tree import\n",
    "from sklearn.tree import DecisionTreeClassifier\n",
    "\n",
    "from sklearn.model_selection import train_test_split\n",
    "from sklearn.metrics import accuracy_score"
   ]
  },
  {
   "cell_type": "markdown",
   "id": "92320748-816f-40be-8f96-fe103fc0d149",
   "metadata": {},
   "source": [
    "## Loading in the data"
   ]
  },
  {
   "cell_type": "code",
   "execution_count": 2,
   "id": "2d62722f-5956-42a4-9b80-886e360c6393",
   "metadata": {
    "execution": {
     "iopub.execute_input": "2023-09-27T04:18:00.845755Z",
     "iopub.status.busy": "2023-09-27T04:18:00.845598Z",
     "iopub.status.idle": "2023-09-27T04:18:00.858887Z",
     "shell.execute_reply": "2023-09-27T04:18:00.858599Z",
     "shell.execute_reply.started": "2023-09-27T04:18:00.845745Z"
    },
    "tags": []
   },
   "outputs": [
    {
     "data": {
      "text/html": [
       "<div>\n",
       "<style scoped>\n",
       "    .dataframe tbody tr th:only-of-type {\n",
       "        vertical-align: middle;\n",
       "    }\n",
       "\n",
       "    .dataframe tbody tr th {\n",
       "        vertical-align: top;\n",
       "    }\n",
       "\n",
       "    .dataframe thead th {\n",
       "        text-align: right;\n",
       "    }\n",
       "</style>\n",
       "<table border=\"1\" class=\"dataframe\">\n",
       "  <thead>\n",
       "    <tr style=\"text-align: right;\">\n",
       "      <th></th>\n",
       "      <th>S1 Overall</th>\n",
       "      <th>S1 Assignments</th>\n",
       "      <th>S1 Exit Tickets</th>\n",
       "      <th>S1 MCQ Tests</th>\n",
       "      <th>S1 FRQ Tests</th>\n",
       "      <th>S1 Final Exam</th>\n",
       "      <th>S2 Overall</th>\n",
       "      <th>S2 Assignments</th>\n",
       "      <th>S2 Exit Tickets</th>\n",
       "      <th>S1 MCQ Tests.1</th>\n",
       "      <th>S2 FRQ Tests</th>\n",
       "      <th>S2 Final Exam</th>\n",
       "      <th>AP Exam</th>\n",
       "    </tr>\n",
       "  </thead>\n",
       "  <tbody>\n",
       "    <tr>\n",
       "      <th>0</th>\n",
       "      <td>87</td>\n",
       "      <td>82.52</td>\n",
       "      <td>98.75</td>\n",
       "      <td>84.0</td>\n",
       "      <td>92.50</td>\n",
       "      <td>77.5</td>\n",
       "      <td>85.0</td>\n",
       "      <td>82.05</td>\n",
       "      <td>97.33</td>\n",
       "      <td>83.64</td>\n",
       "      <td>87.31</td>\n",
       "      <td>77.5</td>\n",
       "      <td>4.0</td>\n",
       "    </tr>\n",
       "    <tr>\n",
       "      <th>1</th>\n",
       "      <td>94</td>\n",
       "      <td>100.00</td>\n",
       "      <td>98.75</td>\n",
       "      <td>89.0</td>\n",
       "      <td>89.17</td>\n",
       "      <td>97.5</td>\n",
       "      <td>91.0</td>\n",
       "      <td>100.00</td>\n",
       "      <td>100.00</td>\n",
       "      <td>85.91</td>\n",
       "      <td>87.69</td>\n",
       "      <td>82.5</td>\n",
       "      <td>4.0</td>\n",
       "    </tr>\n",
       "    <tr>\n",
       "      <th>2</th>\n",
       "      <td>97</td>\n",
       "      <td>100.00</td>\n",
       "      <td>100.00</td>\n",
       "      <td>95.0</td>\n",
       "      <td>97.50</td>\n",
       "      <td>90.0</td>\n",
       "      <td>98.0</td>\n",
       "      <td>100.00</td>\n",
       "      <td>100.00</td>\n",
       "      <td>95.45</td>\n",
       "      <td>94.62</td>\n",
       "      <td>100.0</td>\n",
       "      <td>5.0</td>\n",
       "    </tr>\n",
       "    <tr>\n",
       "      <th>3</th>\n",
       "      <td>96</td>\n",
       "      <td>100.00</td>\n",
       "      <td>100.00</td>\n",
       "      <td>93.0</td>\n",
       "      <td>97.50</td>\n",
       "      <td>90.0</td>\n",
       "      <td>94.0</td>\n",
       "      <td>99.49</td>\n",
       "      <td>100.00</td>\n",
       "      <td>91.36</td>\n",
       "      <td>93.46</td>\n",
       "      <td>87.5</td>\n",
       "      <td>5.0</td>\n",
       "    </tr>\n",
       "    <tr>\n",
       "      <th>4</th>\n",
       "      <td>96</td>\n",
       "      <td>100.00</td>\n",
       "      <td>100.00</td>\n",
       "      <td>89.0</td>\n",
       "      <td>95.00</td>\n",
       "      <td>97.5</td>\n",
       "      <td>97.0</td>\n",
       "      <td>100.00</td>\n",
       "      <td>100.00</td>\n",
       "      <td>90.00</td>\n",
       "      <td>98.85</td>\n",
       "      <td>97.5</td>\n",
       "      <td>5.0</td>\n",
       "    </tr>\n",
       "    <tr>\n",
       "      <th>...</th>\n",
       "      <td>...</td>\n",
       "      <td>...</td>\n",
       "      <td>...</td>\n",
       "      <td>...</td>\n",
       "      <td>...</td>\n",
       "      <td>...</td>\n",
       "      <td>...</td>\n",
       "      <td>...</td>\n",
       "      <td>...</td>\n",
       "      <td>...</td>\n",
       "      <td>...</td>\n",
       "      <td>...</td>\n",
       "      <td>...</td>\n",
       "    </tr>\n",
       "    <tr>\n",
       "      <th>218</th>\n",
       "      <td>92</td>\n",
       "      <td>98.25</td>\n",
       "      <td>97.33</td>\n",
       "      <td>91.0</td>\n",
       "      <td>90.00</td>\n",
       "      <td>85.0</td>\n",
       "      <td>92.0</td>\n",
       "      <td>95.83</td>\n",
       "      <td>100.00</td>\n",
       "      <td>88.18</td>\n",
       "      <td>93.18</td>\n",
       "      <td>85.0</td>\n",
       "      <td>5.0</td>\n",
       "    </tr>\n",
       "    <tr>\n",
       "      <th>219</th>\n",
       "      <td>89</td>\n",
       "      <td>87.63</td>\n",
       "      <td>98.67</td>\n",
       "      <td>82.0</td>\n",
       "      <td>88.50</td>\n",
       "      <td>95.0</td>\n",
       "      <td>91.0</td>\n",
       "      <td>86.55</td>\n",
       "      <td>100.00</td>\n",
       "      <td>92.73</td>\n",
       "      <td>93.64</td>\n",
       "      <td>82.5</td>\n",
       "      <td>5.0</td>\n",
       "    </tr>\n",
       "    <tr>\n",
       "      <th>220</th>\n",
       "      <td>94</td>\n",
       "      <td>94.39</td>\n",
       "      <td>98.67</td>\n",
       "      <td>91.0</td>\n",
       "      <td>96.00</td>\n",
       "      <td>90.0</td>\n",
       "      <td>84.0</td>\n",
       "      <td>68.33</td>\n",
       "      <td>97.50</td>\n",
       "      <td>89.09</td>\n",
       "      <td>89.09</td>\n",
       "      <td>77.5</td>\n",
       "      <td>4.0</td>\n",
       "    </tr>\n",
       "    <tr>\n",
       "      <th>221</th>\n",
       "      <td>83</td>\n",
       "      <td>98.25</td>\n",
       "      <td>92.00</td>\n",
       "      <td>71.0</td>\n",
       "      <td>83.50</td>\n",
       "      <td>75.0</td>\n",
       "      <td>77.0</td>\n",
       "      <td>89.41</td>\n",
       "      <td>81.25</td>\n",
       "      <td>70.91</td>\n",
       "      <td>83.64</td>\n",
       "      <td>57.5</td>\n",
       "      <td>3.0</td>\n",
       "    </tr>\n",
       "    <tr>\n",
       "      <th>222</th>\n",
       "      <td>93</td>\n",
       "      <td>92.53</td>\n",
       "      <td>97.33</td>\n",
       "      <td>91.0</td>\n",
       "      <td>93.00</td>\n",
       "      <td>90.0</td>\n",
       "      <td>88.0</td>\n",
       "      <td>81.78</td>\n",
       "      <td>100.00</td>\n",
       "      <td>86.36</td>\n",
       "      <td>93.18</td>\n",
       "      <td>80.0</td>\n",
       "      <td>5.0</td>\n",
       "    </tr>\n",
       "  </tbody>\n",
       "</table>\n",
       "<p>202 rows × 13 columns</p>\n",
       "</div>"
      ],
      "text/plain": [
       "     S1 Overall  S1 Assignments  S1 Exit Tickets  S1 MCQ Tests  S1 FRQ Tests  \\\n",
       "0            87           82.52            98.75          84.0         92.50   \n",
       "1            94          100.00            98.75          89.0         89.17   \n",
       "2            97          100.00           100.00          95.0         97.50   \n",
       "3            96          100.00           100.00          93.0         97.50   \n",
       "4            96          100.00           100.00          89.0         95.00   \n",
       "..          ...             ...              ...           ...           ...   \n",
       "218          92           98.25            97.33          91.0         90.00   \n",
       "219          89           87.63            98.67          82.0         88.50   \n",
       "220          94           94.39            98.67          91.0         96.00   \n",
       "221          83           98.25            92.00          71.0         83.50   \n",
       "222          93           92.53            97.33          91.0         93.00   \n",
       "\n",
       "     S1 Final Exam  S2 Overall  S2 Assignments  S2 Exit Tickets  \\\n",
       "0             77.5        85.0           82.05            97.33   \n",
       "1             97.5        91.0          100.00           100.00   \n",
       "2             90.0        98.0          100.00           100.00   \n",
       "3             90.0        94.0           99.49           100.00   \n",
       "4             97.5        97.0          100.00           100.00   \n",
       "..             ...         ...             ...              ...   \n",
       "218           85.0        92.0           95.83           100.00   \n",
       "219           95.0        91.0           86.55           100.00   \n",
       "220           90.0        84.0           68.33            97.50   \n",
       "221           75.0        77.0           89.41            81.25   \n",
       "222           90.0        88.0           81.78           100.00   \n",
       "\n",
       "     S1 MCQ Tests.1  S2 FRQ Tests  S2 Final Exam  AP Exam  \n",
       "0             83.64         87.31           77.5      4.0  \n",
       "1             85.91         87.69           82.5      4.0  \n",
       "2             95.45         94.62          100.0      5.0  \n",
       "3             91.36         93.46           87.5      5.0  \n",
       "4             90.00         98.85           97.5      5.0  \n",
       "..              ...           ...            ...      ...  \n",
       "218           88.18         93.18           85.0      5.0  \n",
       "219           92.73         93.64           82.5      5.0  \n",
       "220           89.09         89.09           77.5      4.0  \n",
       "221           70.91         83.64           57.5      3.0  \n",
       "222           86.36         93.18           80.0      5.0  \n",
       "\n",
       "[202 rows x 13 columns]"
      ]
     },
     "metadata": {},
     "output_type": "display_data"
    }
   ],
   "source": [
    "# The data\n",
    "df = pd.read_csv(\"Combined-Data-Table.csv\")\n",
    "df = df.dropna()\n",
    "display(df)"
   ]
  },
  {
   "cell_type": "code",
   "execution_count": 3,
   "id": "d9243118-c3bf-46b2-8fc9-8ee98a077a74",
   "metadata": {
    "execution": {
     "iopub.execute_input": "2023-09-27T04:18:00.859598Z",
     "iopub.status.busy": "2023-09-27T04:18:00.859495Z",
     "iopub.status.idle": "2023-09-27T04:18:00.863162Z",
     "shell.execute_reply": "2023-09-27T04:18:00.862205Z",
     "shell.execute_reply.started": "2023-09-27T04:18:00.859589Z"
    },
    "tags": []
   },
   "outputs": [],
   "source": [
    "# Splits the data between covariates and label\n",
    "X = df[df.columns[:-1]]\n",
    "y = df[df.columns[-1]]"
   ]
  },
  {
   "cell_type": "markdown",
   "id": "a70857b1-5a79-4865-a03e-f3cec1f9379a",
   "metadata": {},
   "source": [
    "## Defining the various models"
   ]
  },
  {
   "cell_type": "code",
   "execution_count": 4,
   "id": "61050d22-b932-4aa8-9cd8-25ef7ea6da43",
   "metadata": {
    "execution": {
     "iopub.execute_input": "2023-09-27T04:18:00.863866Z",
     "iopub.status.busy": "2023-09-27T04:18:00.863755Z",
     "iopub.status.idle": "2023-09-27T04:18:00.866791Z",
     "shell.execute_reply": "2023-09-27T04:18:00.866157Z",
     "shell.execute_reply.started": "2023-09-27T04:18:00.863856Z"
    },
    "tags": []
   },
   "outputs": [],
   "source": [
    "# Returns Linear regression model fit to X_train and y_train\n",
    "def linearReg(X_train, y_train):\n",
    "    reg = LinearRegression().fit(X_train, y_train)\n",
    "    return reg"
   ]
  },
  {
   "cell_type": "code",
   "execution_count": 5,
   "id": "8b34205d-040f-4215-bb6b-c1468742f5dc",
   "metadata": {
    "execution": {
     "iopub.execute_input": "2023-09-27T04:18:00.867458Z",
     "iopub.status.busy": "2023-09-27T04:18:00.867263Z",
     "iopub.status.idle": "2023-09-27T04:18:00.871524Z",
     "shell.execute_reply": "2023-09-27T04:18:00.869420Z",
     "shell.execute_reply.started": "2023-09-27T04:18:00.867447Z"
    },
    "tags": []
   },
   "outputs": [],
   "source": [
    "# Returns MLP with hidden layer structure (9,6,3) fit to X_train and y_train\n",
    "def mlp(X_train, y_train):\n",
    "    regr = MLPRegressor(hidden_layer_sizes = (9,6,3),random_state=673, max_iter=10000).fit(X_train, y_train)\n",
    "    return regr"
   ]
  },
  {
   "cell_type": "code",
   "execution_count": 6,
   "id": "f2a4af8c-9736-4332-ab58-16fcb2548017",
   "metadata": {
    "execution": {
     "iopub.execute_input": "2023-09-27T04:18:00.872112Z",
     "iopub.status.busy": "2023-09-27T04:18:00.872002Z",
     "iopub.status.idle": "2023-09-27T04:18:00.875786Z",
     "shell.execute_reply": "2023-09-27T04:18:00.874537Z",
     "shell.execute_reply.started": "2023-09-27T04:18:00.872102Z"
    },
    "tags": []
   },
   "outputs": [],
   "source": [
    "# Returns decision tree fit to X_train and y_train\n",
    "def tree(X_train, y_train):\n",
    "    clf = DecisionTreeClassifier().fit(X_train, y_train)\n",
    "    return clf"
   ]
  },
  {
   "cell_type": "markdown",
   "id": "9d2c56e9-856f-4dd9-82e0-7f252edba0b2",
   "metadata": {},
   "source": [
    "## Evaluating the Models"
   ]
  },
  {
   "cell_type": "code",
   "execution_count": 7,
   "id": "672b8baa-f09c-4e59-b983-c92f8566ca97",
   "metadata": {
    "execution": {
     "iopub.execute_input": "2023-09-27T04:18:00.878482Z",
     "iopub.status.busy": "2023-09-27T04:18:00.878338Z",
     "iopub.status.idle": "2023-09-27T04:18:00.880716Z",
     "shell.execute_reply": "2023-09-27T04:18:00.880101Z",
     "shell.execute_reply.started": "2023-09-27T04:18:00.878472Z"
    },
    "tags": []
   },
   "outputs": [],
   "source": [
    "# Returns percentage of AP tests predicted correctly. Y_pred is rounded for regression outputs\n",
    "def testAcc(model, X_test, y_test):\n",
    "    y_pred = model.predict(X_test)\n",
    "    return accuracy_score(y_test, np.round(y_pred))"
   ]
  },
  {
   "cell_type": "code",
   "execution_count": 8,
   "id": "4844bfad-b9f0-4aea-a27c-34054ff25d91",
   "metadata": {
    "execution": {
     "iopub.execute_input": "2023-09-27T04:18:00.881398Z",
     "iopub.status.busy": "2023-09-27T04:18:00.881272Z",
     "iopub.status.idle": "2023-09-27T04:18:00.884332Z",
     "shell.execute_reply": "2023-09-27T04:18:00.883908Z",
     "shell.execute_reply.started": "2023-09-27T04:18:00.881388Z"
    },
    "tags": []
   },
   "outputs": [],
   "source": [
    "# Creates 100 different random states to split data between train and test\n",
    "random_states = np.random.randint(1000000, size=600)"
   ]
  },
  {
   "cell_type": "code",
   "execution_count": 9,
   "id": "fc1c4d77-87cb-4dd5-9f40-883dcbedeaa2",
   "metadata": {
    "execution": {
     "iopub.execute_input": "2023-09-27T04:18:00.885149Z",
     "iopub.status.busy": "2023-09-27T04:18:00.884866Z",
     "iopub.status.idle": "2023-09-27T04:18:00.887877Z",
     "shell.execute_reply": "2023-09-27T04:18:00.887550Z",
     "shell.execute_reply.started": "2023-09-27T04:18:00.885137Z"
    },
    "tags": []
   },
   "outputs": [],
   "source": [
    "# Takes in a model definition and fits the model to a random test-train split of data from a list of random states\n",
    "# Returns the average accuracy of the model over the above random states\n",
    "def eval_model(model_func, random_states):\n",
    "    avg_score = []\n",
    "    for random_state in random_states:\n",
    "        X_train, X_test, y_train, y_test = train_test_split(X, y, test_size=0.20, random_state=random_state)\n",
    "        model = model_func(X_train, y_train)\n",
    "        avg_score.append(testAcc(model, X_test, y_test))\n",
    "        #avg_score.append(model.score(X_test, y_test))\n",
    "    return np.average(avg_score)"
   ]
  },
  {
   "cell_type": "code",
   "execution_count": 10,
   "id": "15db02d6-a6b7-49d5-b65b-01802dafb393",
   "metadata": {
    "execution": {
     "iopub.execute_input": "2023-09-27T04:18:00.888662Z",
     "iopub.status.busy": "2023-09-27T04:18:00.888511Z",
     "iopub.status.idle": "2023-09-27T04:18:01.766977Z",
     "shell.execute_reply": "2023-09-27T04:18:01.766660Z",
     "shell.execute_reply.started": "2023-09-27T04:18:00.888650Z"
    },
    "tags": []
   },
   "outputs": [
    {
     "data": {
      "text/plain": [
       "0.6961788617886178"
      ]
     },
     "execution_count": 10,
     "metadata": {},
     "output_type": "execute_result"
    }
   ],
   "source": [
    "# Results for Linear Regression\n",
    "eval_model(linearReg, random_states)"
   ]
  },
  {
   "cell_type": "code",
   "execution_count": 11,
   "id": "060673cd-d8b2-42de-b2bb-6d8cadd0437e",
   "metadata": {
    "execution": {
     "iopub.execute_input": "2023-09-27T04:18:01.767458Z",
     "iopub.status.busy": "2023-09-27T04:18:01.767374Z",
     "iopub.status.idle": "2023-09-27T04:19:32.964174Z",
     "shell.execute_reply": "2023-09-27T04:19:32.962955Z",
     "shell.execute_reply.started": "2023-09-27T04:18:01.767449Z"
    },
    "tags": []
   },
   "outputs": [
    {
     "data": {
      "text/plain": [
       "0.7281300813008129"
      ]
     },
     "execution_count": 11,
     "metadata": {},
     "output_type": "execute_result"
    }
   ],
   "source": [
    "# Results for the MLP\n",
    "eval_model(mlp, random_states)"
   ]
  },
  {
   "cell_type": "code",
   "execution_count": 12,
   "id": "7e80afe4-ecea-4e9b-a740-426c93fe55c4",
   "metadata": {
    "execution": {
     "iopub.execute_input": "2023-09-27T04:19:32.964757Z",
     "iopub.status.busy": "2023-09-27T04:19:32.964646Z",
     "iopub.status.idle": "2023-09-27T04:19:34.000061Z",
     "shell.execute_reply": "2023-09-27T04:19:33.999659Z",
     "shell.execute_reply.started": "2023-09-27T04:19:32.964747Z"
    },
    "tags": []
   },
   "outputs": [
    {
     "data": {
      "text/plain": [
       "0.5995934959349594"
      ]
     },
     "execution_count": 12,
     "metadata": {},
     "output_type": "execute_result"
    }
   ],
   "source": [
    "# Results for the decision tree\n",
    "eval_model(tree, random_states)"
   ]
  }
 ],
 "metadata": {
  "kernelspec": {
   "display_name": "Python 3 (ipykernel)",
   "language": "python",
   "name": "python3"
  },
  "language_info": {
   "codemirror_mode": {
    "name": "ipython",
    "version": 3
   },
   "file_extension": ".py",
   "mimetype": "text/x-python",
   "name": "python",
   "nbconvert_exporter": "python",
   "pygments_lexer": "ipython3",
   "version": "3.9.15"
  }
 },
 "nbformat": 4,
 "nbformat_minor": 5
}
