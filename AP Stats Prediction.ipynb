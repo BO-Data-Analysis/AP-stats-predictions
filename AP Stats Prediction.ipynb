{
 "cells": [
  {
   "cell_type": "markdown",
   "id": "700276b6-7377-4cd3-a0cc-d156c0d4f6db",
   "metadata": {},
   "source": [
    "# Predicting Stat Student Grades"
   ]
  },
  {
   "cell_type": "markdown",
   "id": "a505b589-4dab-42f3-8d86-a0cc184ba55f",
   "metadata": {},
   "source": [
    "## Import Statements"
   ]
  },
  {
   "cell_type": "code",
   "execution_count": 2,
   "id": "e4a7fbd3-2634-4048-bab0-a4cc7f3470db",
   "metadata": {
    "execution": {
     "iopub.execute_input": "2023-09-27T20:02:13.125344Z",
     "iopub.status.busy": "2023-09-27T20:02:13.124844Z",
     "iopub.status.idle": "2023-09-27T20:02:13.137928Z",
     "shell.execute_reply": "2023-09-27T20:02:13.135966Z",
     "shell.execute_reply.started": "2023-09-27T20:02:13.125304Z"
    },
    "tags": []
   },
   "outputs": [],
   "source": [
    "import pandas as pd\n",
    "import time\n",
    "import numpy as np\n",
    "\n",
    "# Linear regression import\n",
    "from sklearn.linear_model import LinearRegression\n",
    "# MLP import\n",
    "from sklearn.neural_network import MLPRegressor\n",
    "# Decision Tree import\n",
    "from sklearn.tree import DecisionTreeClassifier\n",
    "\n",
    "from sklearn.model_selection import train_test_split\n",
    "from sklearn.metrics import accuracy_score\n",
    "\n",
    "from autogluon.tabular import TabularPredictor"
   ]
  },
  {
   "cell_type": "markdown",
   "id": "92320748-816f-40be-8f96-fe103fc0d149",
   "metadata": {},
   "source": [
    "## Loading in the data"
   ]
  },
  {
   "cell_type": "code",
   "execution_count": 3,
   "id": "2d62722f-5956-42a4-9b80-886e360c6393",
   "metadata": {
    "execution": {
     "iopub.execute_input": "2023-09-27T20:02:15.943180Z",
     "iopub.status.busy": "2023-09-27T20:02:15.942638Z",
     "iopub.status.idle": "2023-09-27T20:02:15.974112Z",
     "shell.execute_reply": "2023-09-27T20:02:15.973703Z",
     "shell.execute_reply.started": "2023-09-27T20:02:15.943140Z"
    },
    "tags": []
   },
   "outputs": [
    {
     "data": {
      "text/html": [
       "<div>\n",
       "<style scoped>\n",
       "    .dataframe tbody tr th:only-of-type {\n",
       "        vertical-align: middle;\n",
       "    }\n",
       "\n",
       "    .dataframe tbody tr th {\n",
       "        vertical-align: top;\n",
       "    }\n",
       "\n",
       "    .dataframe thead th {\n",
       "        text-align: right;\n",
       "    }\n",
       "</style>\n",
       "<table border=\"1\" class=\"dataframe\">\n",
       "  <thead>\n",
       "    <tr style=\"text-align: right;\">\n",
       "      <th></th>\n",
       "      <th>S1 Overall</th>\n",
       "      <th>S1 Assignments</th>\n",
       "      <th>S1 Exit Tickets</th>\n",
       "      <th>S1 MCQ Tests</th>\n",
       "      <th>S1 FRQ Tests</th>\n",
       "      <th>S1 Final Exam</th>\n",
       "      <th>S2 Overall</th>\n",
       "      <th>S2 Assignments</th>\n",
       "      <th>S2 Exit Tickets</th>\n",
       "      <th>S1 MCQ Tests.1</th>\n",
       "      <th>S2 FRQ Tests</th>\n",
       "      <th>S2 Final Exam</th>\n",
       "      <th>AP Exam</th>\n",
       "    </tr>\n",
       "  </thead>\n",
       "  <tbody>\n",
       "    <tr>\n",
       "      <th>0</th>\n",
       "      <td>87</td>\n",
       "      <td>82.52</td>\n",
       "      <td>98.75</td>\n",
       "      <td>84.0</td>\n",
       "      <td>92.50</td>\n",
       "      <td>77.5</td>\n",
       "      <td>85.0</td>\n",
       "      <td>82.05</td>\n",
       "      <td>97.33</td>\n",
       "      <td>83.64</td>\n",
       "      <td>87.31</td>\n",
       "      <td>77.5</td>\n",
       "      <td>4.0</td>\n",
       "    </tr>\n",
       "    <tr>\n",
       "      <th>1</th>\n",
       "      <td>94</td>\n",
       "      <td>100.00</td>\n",
       "      <td>98.75</td>\n",
       "      <td>89.0</td>\n",
       "      <td>89.17</td>\n",
       "      <td>97.5</td>\n",
       "      <td>91.0</td>\n",
       "      <td>100.00</td>\n",
       "      <td>100.00</td>\n",
       "      <td>85.91</td>\n",
       "      <td>87.69</td>\n",
       "      <td>82.5</td>\n",
       "      <td>4.0</td>\n",
       "    </tr>\n",
       "    <tr>\n",
       "      <th>2</th>\n",
       "      <td>97</td>\n",
       "      <td>100.00</td>\n",
       "      <td>100.00</td>\n",
       "      <td>95.0</td>\n",
       "      <td>97.50</td>\n",
       "      <td>90.0</td>\n",
       "      <td>98.0</td>\n",
       "      <td>100.00</td>\n",
       "      <td>100.00</td>\n",
       "      <td>95.45</td>\n",
       "      <td>94.62</td>\n",
       "      <td>100.0</td>\n",
       "      <td>5.0</td>\n",
       "    </tr>\n",
       "    <tr>\n",
       "      <th>3</th>\n",
       "      <td>96</td>\n",
       "      <td>100.00</td>\n",
       "      <td>100.00</td>\n",
       "      <td>93.0</td>\n",
       "      <td>97.50</td>\n",
       "      <td>90.0</td>\n",
       "      <td>94.0</td>\n",
       "      <td>99.49</td>\n",
       "      <td>100.00</td>\n",
       "      <td>91.36</td>\n",
       "      <td>93.46</td>\n",
       "      <td>87.5</td>\n",
       "      <td>5.0</td>\n",
       "    </tr>\n",
       "    <tr>\n",
       "      <th>4</th>\n",
       "      <td>96</td>\n",
       "      <td>100.00</td>\n",
       "      <td>100.00</td>\n",
       "      <td>89.0</td>\n",
       "      <td>95.00</td>\n",
       "      <td>97.5</td>\n",
       "      <td>97.0</td>\n",
       "      <td>100.00</td>\n",
       "      <td>100.00</td>\n",
       "      <td>90.00</td>\n",
       "      <td>98.85</td>\n",
       "      <td>97.5</td>\n",
       "      <td>5.0</td>\n",
       "    </tr>\n",
       "    <tr>\n",
       "      <th>...</th>\n",
       "      <td>...</td>\n",
       "      <td>...</td>\n",
       "      <td>...</td>\n",
       "      <td>...</td>\n",
       "      <td>...</td>\n",
       "      <td>...</td>\n",
       "      <td>...</td>\n",
       "      <td>...</td>\n",
       "      <td>...</td>\n",
       "      <td>...</td>\n",
       "      <td>...</td>\n",
       "      <td>...</td>\n",
       "      <td>...</td>\n",
       "    </tr>\n",
       "    <tr>\n",
       "      <th>218</th>\n",
       "      <td>92</td>\n",
       "      <td>98.25</td>\n",
       "      <td>97.33</td>\n",
       "      <td>91.0</td>\n",
       "      <td>90.00</td>\n",
       "      <td>85.0</td>\n",
       "      <td>92.0</td>\n",
       "      <td>95.83</td>\n",
       "      <td>100.00</td>\n",
       "      <td>88.18</td>\n",
       "      <td>93.18</td>\n",
       "      <td>85.0</td>\n",
       "      <td>5.0</td>\n",
       "    </tr>\n",
       "    <tr>\n",
       "      <th>219</th>\n",
       "      <td>89</td>\n",
       "      <td>87.63</td>\n",
       "      <td>98.67</td>\n",
       "      <td>82.0</td>\n",
       "      <td>88.50</td>\n",
       "      <td>95.0</td>\n",
       "      <td>91.0</td>\n",
       "      <td>86.55</td>\n",
       "      <td>100.00</td>\n",
       "      <td>92.73</td>\n",
       "      <td>93.64</td>\n",
       "      <td>82.5</td>\n",
       "      <td>5.0</td>\n",
       "    </tr>\n",
       "    <tr>\n",
       "      <th>220</th>\n",
       "      <td>94</td>\n",
       "      <td>94.39</td>\n",
       "      <td>98.67</td>\n",
       "      <td>91.0</td>\n",
       "      <td>96.00</td>\n",
       "      <td>90.0</td>\n",
       "      <td>84.0</td>\n",
       "      <td>68.33</td>\n",
       "      <td>97.50</td>\n",
       "      <td>89.09</td>\n",
       "      <td>89.09</td>\n",
       "      <td>77.5</td>\n",
       "      <td>4.0</td>\n",
       "    </tr>\n",
       "    <tr>\n",
       "      <th>221</th>\n",
       "      <td>83</td>\n",
       "      <td>98.25</td>\n",
       "      <td>92.00</td>\n",
       "      <td>71.0</td>\n",
       "      <td>83.50</td>\n",
       "      <td>75.0</td>\n",
       "      <td>77.0</td>\n",
       "      <td>89.41</td>\n",
       "      <td>81.25</td>\n",
       "      <td>70.91</td>\n",
       "      <td>83.64</td>\n",
       "      <td>57.5</td>\n",
       "      <td>3.0</td>\n",
       "    </tr>\n",
       "    <tr>\n",
       "      <th>222</th>\n",
       "      <td>93</td>\n",
       "      <td>92.53</td>\n",
       "      <td>97.33</td>\n",
       "      <td>91.0</td>\n",
       "      <td>93.00</td>\n",
       "      <td>90.0</td>\n",
       "      <td>88.0</td>\n",
       "      <td>81.78</td>\n",
       "      <td>100.00</td>\n",
       "      <td>86.36</td>\n",
       "      <td>93.18</td>\n",
       "      <td>80.0</td>\n",
       "      <td>5.0</td>\n",
       "    </tr>\n",
       "  </tbody>\n",
       "</table>\n",
       "<p>202 rows × 13 columns</p>\n",
       "</div>"
      ],
      "text/plain": [
       "     S1 Overall  S1 Assignments  S1 Exit Tickets  S1 MCQ Tests  S1 FRQ Tests  \\\n",
       "0            87           82.52            98.75          84.0         92.50   \n",
       "1            94          100.00            98.75          89.0         89.17   \n",
       "2            97          100.00           100.00          95.0         97.50   \n",
       "3            96          100.00           100.00          93.0         97.50   \n",
       "4            96          100.00           100.00          89.0         95.00   \n",
       "..          ...             ...              ...           ...           ...   \n",
       "218          92           98.25            97.33          91.0         90.00   \n",
       "219          89           87.63            98.67          82.0         88.50   \n",
       "220          94           94.39            98.67          91.0         96.00   \n",
       "221          83           98.25            92.00          71.0         83.50   \n",
       "222          93           92.53            97.33          91.0         93.00   \n",
       "\n",
       "     S1 Final Exam  S2 Overall  S2 Assignments  S2 Exit Tickets  \\\n",
       "0             77.5        85.0           82.05            97.33   \n",
       "1             97.5        91.0          100.00           100.00   \n",
       "2             90.0        98.0          100.00           100.00   \n",
       "3             90.0        94.0           99.49           100.00   \n",
       "4             97.5        97.0          100.00           100.00   \n",
       "..             ...         ...             ...              ...   \n",
       "218           85.0        92.0           95.83           100.00   \n",
       "219           95.0        91.0           86.55           100.00   \n",
       "220           90.0        84.0           68.33            97.50   \n",
       "221           75.0        77.0           89.41            81.25   \n",
       "222           90.0        88.0           81.78           100.00   \n",
       "\n",
       "     S1 MCQ Tests.1  S2 FRQ Tests  S2 Final Exam  AP Exam  \n",
       "0             83.64         87.31           77.5      4.0  \n",
       "1             85.91         87.69           82.5      4.0  \n",
       "2             95.45         94.62          100.0      5.0  \n",
       "3             91.36         93.46           87.5      5.0  \n",
       "4             90.00         98.85           97.5      5.0  \n",
       "..              ...           ...            ...      ...  \n",
       "218           88.18         93.18           85.0      5.0  \n",
       "219           92.73         93.64           82.5      5.0  \n",
       "220           89.09         89.09           77.5      4.0  \n",
       "221           70.91         83.64           57.5      3.0  \n",
       "222           86.36         93.18           80.0      5.0  \n",
       "\n",
       "[202 rows x 13 columns]"
      ]
     },
     "metadata": {},
     "output_type": "display_data"
    }
   ],
   "source": [
    "# The data\n",
    "df = pd.read_csv(\"Combined-Data-Table.csv\")\n",
    "df = df.dropna()\n",
    "display(df)"
   ]
  },
  {
   "cell_type": "code",
   "execution_count": 4,
   "id": "d9243118-c3bf-46b2-8fc9-8ee98a077a74",
   "metadata": {
    "execution": {
     "iopub.execute_input": "2023-09-27T20:02:16.667798Z",
     "iopub.status.busy": "2023-09-27T20:02:16.667376Z",
     "iopub.status.idle": "2023-09-27T20:02:16.676511Z",
     "shell.execute_reply": "2023-09-27T20:02:16.674586Z",
     "shell.execute_reply.started": "2023-09-27T20:02:16.667769Z"
    },
    "tags": []
   },
   "outputs": [],
   "source": [
    "# Splits the data between covariates and label\n",
    "X = df[df.columns[:-1]]\n",
    "y = df[df.columns[-1]]"
   ]
  },
  {
   "cell_type": "markdown",
   "id": "a70857b1-5a79-4865-a03e-f3cec1f9379a",
   "metadata": {},
   "source": [
    "## Defining the various models"
   ]
  },
  {
   "cell_type": "code",
   "execution_count": 5,
   "id": "61050d22-b932-4aa8-9cd8-25ef7ea6da43",
   "metadata": {
    "execution": {
     "iopub.execute_input": "2023-09-27T20:02:17.051637Z",
     "iopub.status.busy": "2023-09-27T20:02:17.050940Z",
     "iopub.status.idle": "2023-09-27T20:02:17.060015Z",
     "shell.execute_reply": "2023-09-27T20:02:17.059161Z",
     "shell.execute_reply.started": "2023-09-27T20:02:17.051583Z"
    },
    "tags": []
   },
   "outputs": [],
   "source": [
    "# Returns Linear regression model fit to X_train and y_train\n",
    "def linearReg(X_train, y_train):\n",
    "    reg = LinearRegression().fit(X_train, y_train)\n",
    "    return reg"
   ]
  },
  {
   "cell_type": "code",
   "execution_count": 6,
   "id": "8b34205d-040f-4215-bb6b-c1468742f5dc",
   "metadata": {
    "execution": {
     "iopub.execute_input": "2023-09-27T20:02:17.230355Z",
     "iopub.status.busy": "2023-09-27T20:02:17.228756Z",
     "iopub.status.idle": "2023-09-27T20:02:17.241935Z",
     "shell.execute_reply": "2023-09-27T20:02:17.236096Z",
     "shell.execute_reply.started": "2023-09-27T20:02:17.230301Z"
    },
    "tags": []
   },
   "outputs": [],
   "source": [
    "# Returns MLP with hidden layer structure (9,6,3) fit to X_train and y_train\n",
    "def mlp(X_train, y_train):\n",
    "    regr = MLPRegressor(hidden_layer_sizes = (9,6,3),random_state=673, max_iter=10000).fit(X_train, y_train)\n",
    "    return regr"
   ]
  },
  {
   "cell_type": "code",
   "execution_count": 7,
   "id": "f2a4af8c-9736-4332-ab58-16fcb2548017",
   "metadata": {
    "execution": {
     "iopub.execute_input": "2023-09-27T20:02:17.402917Z",
     "iopub.status.busy": "2023-09-27T20:02:17.402194Z",
     "iopub.status.idle": "2023-09-27T20:02:17.410713Z",
     "shell.execute_reply": "2023-09-27T20:02:17.409836Z",
     "shell.execute_reply.started": "2023-09-27T20:02:17.402879Z"
    },
    "tags": []
   },
   "outputs": [],
   "source": [
    "# Returns decision tree fit to X_train and y_train\n",
    "def tree(X_train, y_train):\n",
    "    clf = DecisionTreeClassifier().fit(X_train, y_train)\n",
    "    return clf"
   ]
  },
  {
   "cell_type": "markdown",
   "id": "9d2c56e9-856f-4dd9-82e0-7f252edba0b2",
   "metadata": {},
   "source": [
    "## Evaluating the Models"
   ]
  },
  {
   "cell_type": "code",
   "execution_count": 8,
   "id": "672b8baa-f09c-4e59-b983-c92f8566ca97",
   "metadata": {
    "execution": {
     "iopub.execute_input": "2023-09-27T20:02:17.752335Z",
     "iopub.status.busy": "2023-09-27T20:02:17.751863Z",
     "iopub.status.idle": "2023-09-27T20:02:17.762519Z",
     "shell.execute_reply": "2023-09-27T20:02:17.760538Z",
     "shell.execute_reply.started": "2023-09-27T20:02:17.752269Z"
    },
    "tags": []
   },
   "outputs": [],
   "source": [
    "# Returns percentage of AP tests predicted correctly. Y_pred is rounded for regression outputs\n",
    "def testAcc(model, X_test, y_test):\n",
    "    y_pred = model.predict(X_test)\n",
    "    return accuracy_score(y_test, np.round(y_pred))"
   ]
  },
  {
   "cell_type": "code",
   "execution_count": 9,
   "id": "4844bfad-b9f0-4aea-a27c-34054ff25d91",
   "metadata": {
    "execution": {
     "iopub.execute_input": "2023-09-27T20:02:17.931998Z",
     "iopub.status.busy": "2023-09-27T20:02:17.931578Z",
     "iopub.status.idle": "2023-09-27T20:02:17.945990Z",
     "shell.execute_reply": "2023-09-27T20:02:17.943624Z",
     "shell.execute_reply.started": "2023-09-27T20:02:17.931970Z"
    },
    "tags": []
   },
   "outputs": [],
   "source": [
    "# Creates 100 different random states to split data between train and test\n",
    "random_states = np.random.randint(1000000, size=600)"
   ]
  },
  {
   "cell_type": "code",
   "execution_count": 10,
   "id": "fc1c4d77-87cb-4dd5-9f40-883dcbedeaa2",
   "metadata": {
    "execution": {
     "iopub.execute_input": "2023-09-27T20:02:18.359797Z",
     "iopub.status.busy": "2023-09-27T20:02:18.359405Z",
     "iopub.status.idle": "2023-09-27T20:02:18.371547Z",
     "shell.execute_reply": "2023-09-27T20:02:18.370185Z",
     "shell.execute_reply.started": "2023-09-27T20:02:18.359770Z"
    },
    "tags": []
   },
   "outputs": [],
   "source": [
    "# Takes in a model definition and fits the model to a random test-train split of data from a list of random states\n",
    "# Returns the average accuracy of the model over the above random states\n",
    "def eval_model(model_func, random_states):\n",
    "    avg_score = []\n",
    "    for random_state in random_states:\n",
    "        X_train, X_test, y_train, y_test = train_test_split(X, y, test_size=0.20, random_state=random_state)\n",
    "        model = model_func(X_train, y_train)\n",
    "        avg_score.append(testAcc(model, X_test, y_test))\n",
    "        #avg_score.append(model.score(X_test, y_test))\n",
    "    return np.average(avg_score)"
   ]
  },
  {
   "cell_type": "code",
   "execution_count": 11,
   "id": "15db02d6-a6b7-49d5-b65b-01802dafb393",
   "metadata": {
    "execution": {
     "iopub.execute_input": "2023-09-27T20:02:18.551917Z",
     "iopub.status.busy": "2023-09-27T20:02:18.551507Z",
     "iopub.status.idle": "2023-09-27T20:02:19.408499Z",
     "shell.execute_reply": "2023-09-27T20:02:19.408120Z",
     "shell.execute_reply.started": "2023-09-27T20:02:18.551886Z"
    },
    "tags": []
   },
   "outputs": [
    {
     "data": {
      "text/plain": [
       "0.695040650406504"
      ]
     },
     "execution_count": 11,
     "metadata": {},
     "output_type": "execute_result"
    }
   ],
   "source": [
    "# Results for Linear Regression\n",
    "reg_acc = eval_model(linearReg, random_states)"
   ]
  },
  {
   "cell_type": "code",
   "execution_count": 12,
   "id": "060673cd-d8b2-42de-b2bb-6d8cadd0437e",
   "metadata": {
    "execution": {
     "iopub.execute_input": "2023-09-27T20:02:19.409348Z",
     "iopub.status.busy": "2023-09-27T20:02:19.409252Z",
     "iopub.status.idle": "2023-09-27T20:03:54.431582Z",
     "shell.execute_reply": "2023-09-27T20:03:54.431178Z",
     "shell.execute_reply.started": "2023-09-27T20:02:19.409338Z"
    },
    "tags": []
   },
   "outputs": [
    {
     "data": {
      "text/plain": [
       "0.7225609756097561"
      ]
     },
     "execution_count": 12,
     "metadata": {},
     "output_type": "execute_result"
    }
   ],
   "source": [
    "# Results for the MLP\n",
    "mlp_acc = eval_model(mlp, random_states)"
   ]
  },
  {
   "cell_type": "code",
   "execution_count": 13,
   "id": "7e80afe4-ecea-4e9b-a740-426c93fe55c4",
   "metadata": {
    "execution": {
     "iopub.execute_input": "2023-09-27T20:03:54.432131Z",
     "iopub.status.busy": "2023-09-27T20:03:54.432035Z",
     "iopub.status.idle": "2023-09-27T20:03:55.536032Z",
     "shell.execute_reply": "2023-09-27T20:03:55.535609Z",
     "shell.execute_reply.started": "2023-09-27T20:03:54.432120Z"
    },
    "tags": []
   },
   "outputs": [
    {
     "data": {
      "text/plain": [
       "0.6020325203252032"
      ]
     },
     "execution_count": 13,
     "metadata": {},
     "output_type": "execute_result"
    }
   ],
   "source": [
    "# Results for the decision tree\n",
    "tree_acc = eval_model(tree, random_states)"
   ]
  },
  {
   "cell_type": "code",
   "execution_count": 27,
   "id": "e923d008-b433-46bf-af1f-0f8daa95a2d7",
   "metadata": {
    "execution": {
     "iopub.execute_input": "2023-09-27T20:21:45.028569Z",
     "iopub.status.busy": "2023-09-27T20:21:45.025817Z",
     "iopub.status.idle": "2023-09-27T20:21:45.042174Z",
     "shell.execute_reply": "2023-09-27T20:21:45.040801Z",
     "shell.execute_reply.started": "2023-09-27T20:21:45.028485Z"
    }
   },
   "outputs": [],
   "source": [
    "train_data, test_data = train_test_split(df, test_size=0.20)\n",
    "label = \"AP Exam\""
   ]
  },
  {
   "cell_type": "code",
   "execution_count": 28,
   "id": "ae033a82-5499-4cb5-b913-b68113956595",
   "metadata": {
    "execution": {
     "iopub.execute_input": "2023-09-27T20:21:45.859679Z",
     "iopub.status.busy": "2023-09-27T20:21:45.858743Z",
     "iopub.status.idle": "2023-09-27T20:21:50.229817Z",
     "shell.execute_reply": "2023-09-27T20:21:50.229561Z",
     "shell.execute_reply.started": "2023-09-27T20:21:45.859627Z"
    }
   },
   "outputs": [
    {
     "name": "stderr",
     "output_type": "stream",
     "text": [
      "No path specified. Models will be saved in: \"AutogluonModels/ag-20230927_202145\"\n",
      "Beginning AutoGluon training ...\n",
      "AutoGluon will save models to \"AutogluonModels/ag-20230927_202145\"\n",
      "AutoGluon Version:  0.8.2\n",
      "Python Version:     3.10.12\n",
      "Operating System:   Darwin\n",
      "Platform Machine:   arm64\n",
      "Platform Version:   Darwin Kernel Version 22.6.0: Wed Jul  5 22:22:05 PDT 2023; root:xnu-8796.141.3~6/RELEASE_ARM64_T6000\n",
      "Disk Space Avail:   217.86 GB / 494.38 GB (44.1%)\n",
      "Train Data Rows:    161\n",
      "Train Data Columns: 12\n",
      "Label Column: AP Exam\n",
      "Preprocessing data ...\n",
      "/Users/daniel/mambaforge/envs/ag/lib/python3.10/site-packages/autogluon/tabular/learner/default_learner.py:215: FutureWarning: use_inf_as_na option is deprecated and will be removed in a future version. Convert inf values to NaN before operating instead.\n",
      "  with pd.option_context(\"mode.use_inf_as_na\", True):  # treat None, NaN, INF, NINF as NA\n",
      "Using Feature Generators to preprocess the data ...\n",
      "Fitting AutoMLPipelineFeatureGenerator...\n",
      "\tAvailable Memory:                    4078.42 MB\n",
      "\tTrain Data (Original)  Memory Usage: 0.02 MB (0.0% of available memory)\n",
      "\tInferring data type of each feature based on column values. Set feature_metadata_in to manually specify special dtypes of the features.\n",
      "\tStage 1 Generators:\n",
      "\t\tFitting AsTypeFeatureGenerator...\n",
      "\tStage 2 Generators:\n",
      "\t\tFitting FillNaFeatureGenerator...\n",
      "\tStage 3 Generators:\n",
      "\t\tFitting IdentityFeatureGenerator...\n",
      "\tStage 4 Generators:\n",
      "\t\tFitting DropUniqueFeatureGenerator...\n",
      "\tStage 5 Generators:\n",
      "\t\tFitting DropDuplicatesFeatureGenerator...\n",
      "\tTypes of features in original data (raw dtype, special dtypes):\n",
      "\t\t('float', []) : 11 | ['S1 Assignments', 'S1 Exit Tickets', 'S1 MCQ Tests', 'S1 FRQ Tests', 'S1 Final Exam', ...]\n",
      "\t\t('int', [])   :  1 | ['S1 Overall']\n",
      "\tTypes of features in processed data (raw dtype, special dtypes):\n",
      "\t\t('float', []) : 11 | ['S1 Assignments', 'S1 Exit Tickets', 'S1 MCQ Tests', 'S1 FRQ Tests', 'S1 Final Exam', ...]\n",
      "\t\t('int', [])   :  1 | ['S1 Overall']\n",
      "\t0.0s = Fit runtime\n",
      "\t12 features in original data used to generate 12 features in processed data.\n",
      "\tTrain Data (Processed) Memory Usage: 0.02 MB (0.0% of available memory)\n",
      "Data preprocessing and feature engineering runtime = 0.03s ...\n",
      "AutoGluon will gauge predictive performance using evaluation metric: 'root_mean_squared_error'\n",
      "\tThis metric's sign has been flipped to adhere to being higher_is_better. The metric score can be multiplied by -1 to get the metric value.\n",
      "\tTo change this, specify the eval_metric parameter of Predictor()\n",
      "Automatically generating train/validation split with holdout_frac=0.2, Train Rows: 128, Val Rows: 33\n",
      "User-specified model hyperparameters to be fit:\n",
      "{\n",
      "\t'NN_TORCH': {},\n",
      "\t'GBM': [{'extra_trees': True, 'ag_args': {'name_suffix': 'XT'}}, {}, 'GBMLarge'],\n",
      "\t'CAT': {},\n",
      "\t'XGB': {},\n",
      "\t'FASTAI': {},\n",
      "\t'RF': [{'criterion': 'gini', 'ag_args': {'name_suffix': 'Gini', 'problem_types': ['binary', 'multiclass']}}, {'criterion': 'entropy', 'ag_args': {'name_suffix': 'Entr', 'problem_types': ['binary', 'multiclass']}}, {'criterion': 'squared_error', 'ag_args': {'name_suffix': 'MSE', 'problem_types': ['regression', 'quantile']}}],\n",
      "\t'XT': [{'criterion': 'gini', 'ag_args': {'name_suffix': 'Gini', 'problem_types': ['binary', 'multiclass']}}, {'criterion': 'entropy', 'ag_args': {'name_suffix': 'Entr', 'problem_types': ['binary', 'multiclass']}}, {'criterion': 'squared_error', 'ag_args': {'name_suffix': 'MSE', 'problem_types': ['regression', 'quantile']}}],\n",
      "\t'KNN': [{'weights': 'uniform', 'ag_args': {'name_suffix': 'Unif'}}, {'weights': 'distance', 'ag_args': {'name_suffix': 'Dist'}}],\n",
      "}\n",
      "Fitting 11 L1 models ...\n",
      "Fitting model: KNeighborsUnif ...\n",
      "\t-0.5742\t = Validation score   (-root_mean_squared_error)\n",
      "\t0.01s\t = Training   runtime\n",
      "\t0.02s\t = Validation runtime\n",
      "Fitting model: KNeighborsDist ...\n",
      "\t-0.5657\t = Validation score   (-root_mean_squared_error)\n",
      "\t0.0s\t = Training   runtime\n",
      "\t0.01s\t = Validation runtime\n",
      "Fitting model: LightGBMXT ...\n",
      "\t-0.4752\t = Validation score   (-root_mean_squared_error)\n",
      "\t0.25s\t = Training   runtime\n",
      "\t0.0s\t = Validation runtime\n",
      "Fitting model: LightGBM ...\n",
      "\t-0.4711\t = Validation score   (-root_mean_squared_error)\n",
      "\t0.21s\t = Training   runtime\n",
      "\t0.0s\t = Validation runtime\n",
      "Fitting model: RandomForestMSE ...\n",
      "\t-0.5187\t = Validation score   (-root_mean_squared_error)\n",
      "\t0.17s\t = Training   runtime\n",
      "\t0.01s\t = Validation runtime\n",
      "Fitting model: CatBoost ...\n",
      "\t-0.5324\t = Validation score   (-root_mean_squared_error)\n",
      "\t0.2s\t = Training   runtime\n",
      "\t0.0s\t = Validation runtime\n",
      "Fitting model: ExtraTreesMSE ...\n",
      "\t-0.534\t = Validation score   (-root_mean_squared_error)\n",
      "\t0.17s\t = Training   runtime\n",
      "\t0.03s\t = Validation runtime\n",
      "Fitting model: NeuralNetFastAI ...\n",
      "No improvement since epoch 4: early stopping\n",
      "\t-0.5973\t = Validation score   (-root_mean_squared_error)\n",
      "\t0.79s\t = Training   runtime\n",
      "\t0.0s\t = Validation runtime\n",
      "Fitting model: XGBoost ...\n",
      "/Users/daniel/mambaforge/envs/ag/lib/python3.10/site-packages/xgboost/data.py:440: FutureWarning: is_sparse is deprecated and will be removed in a future version. Check `isinstance(dtype, pd.SparseDtype)` instead.\n",
      "  if is_sparse(data):\n",
      "\t-0.5978\t = Validation score   (-root_mean_squared_error)\n",
      "\t0.17s\t = Training   runtime\n",
      "\t0.0s\t = Validation runtime\n",
      "Fitting model: NeuralNetTorch ...\n",
      "\t-0.4911\t = Validation score   (-root_mean_squared_error)\n",
      "\t1.53s\t = Training   runtime\n",
      "\t0.0s\t = Validation runtime\n",
      "Fitting model: LightGBMLarge ...\n",
      "\t-0.5453\t = Validation score   (-root_mean_squared_error)\n",
      "\t0.58s\t = Training   runtime\n",
      "\t0.0s\t = Validation runtime\n",
      "Fitting model: WeightedEnsemble_L2 ...\n",
      "\t-0.457\t = Validation score   (-root_mean_squared_error)\n",
      "\t0.07s\t = Training   runtime\n",
      "\t0.0s\t = Validation runtime\n",
      "AutoGluon training complete, total runtime = 4.33s ... Best model: \"WeightedEnsemble_L2\"\n",
      "TabularPredictor saved. To load, use: predictor = TabularPredictor.load(\"AutogluonModels/ag-20230927_202145\")\n"
     ]
    }
   ],
   "source": [
    "reg_predictor = TabularPredictor(label=label, problem_type=\"regression\").fit(train_data)"
   ]
  },
  {
   "cell_type": "code",
   "execution_count": 29,
   "id": "7d3bbae8-8820-45d9-95d2-bd218dcddf97",
   "metadata": {
    "execution": {
     "iopub.execute_input": "2023-09-27T20:22:03.445957Z",
     "iopub.status.busy": "2023-09-27T20:22:03.445143Z",
     "iopub.status.idle": "2023-09-27T20:22:03.484520Z",
     "shell.execute_reply": "2023-09-27T20:22:03.484151Z",
     "shell.execute_reply.started": "2023-09-27T20:22:03.445917Z"
    }
   },
   "outputs": [],
   "source": [
    "y_pred = reg_predictor.predict(test_data.drop(columns=[label]))"
   ]
  },
  {
   "cell_type": "code",
   "execution_count": 30,
   "id": "6ac8d34a-f3fe-4e43-8792-8a84163782e7",
   "metadata": {
    "execution": {
     "iopub.execute_input": "2023-09-27T20:22:03.938071Z",
     "iopub.status.busy": "2023-09-27T20:22:03.937472Z",
     "iopub.status.idle": "2023-09-27T20:22:03.959465Z",
     "shell.execute_reply": "2023-09-27T20:22:03.958625Z",
     "shell.execute_reply.started": "2023-09-27T20:22:03.938030Z"
    }
   },
   "outputs": [
    {
     "data": {
      "text/plain": [
       "0.7317073170731707"
      ]
     },
     "execution_count": 30,
     "metadata": {},
     "output_type": "execute_result"
    }
   ],
   "source": [
    "accuracy_score(test_data[\"AP Exam\"], np.round(y_pred))"
   ]
  },
  {
   "cell_type": "code",
   "execution_count": null,
   "id": "cfd80a0a-390b-4553-bdfa-f036322a3547",
   "metadata": {},
   "outputs": [],
   "source": []
  }
 ],
 "metadata": {
  "kernelspec": {
   "display_name": "Python 3 (ipykernel)",
   "language": "python",
   "name": "python3"
  },
  "language_info": {
   "codemirror_mode": {
    "name": "ipython",
    "version": 3
   },
   "file_extension": ".py",
   "mimetype": "text/x-python",
   "name": "python",
   "nbconvert_exporter": "python",
   "pygments_lexer": "ipython3",
   "version": "3.9.15"
  }
 },
 "nbformat": 4,
 "nbformat_minor": 5
}
